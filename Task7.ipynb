{
 "cells": [
  {
   "cell_type": "code",
   "execution_count": 8,
   "id": "0d83424a-879a-4b97-97c7-a9c51f4313af",
   "metadata": {},
   "outputs": [],
   "source": [
    "#importing sql module\n",
    "import sqlite3"
   ]
  },
  {
   "cell_type": "code",
   "execution_count": 10,
   "id": "e7ee2870-9193-458e-81dc-582cf40ddb2c",
   "metadata": {},
   "outputs": [],
   "source": [
    "#creating database\n",
    "conn = sqlite3.connect('sales_data.db') \n",
    "cursor = conn.cursor()"
   ]
  },
  {
   "cell_type": "code",
   "execution_count": 12,
   "id": "74ddd4b1-7072-4f55-bd15-234d6d11b209",
   "metadata": {},
   "outputs": [
    {
     "data": {
      "text/plain": [
       "<sqlite3.Cursor at 0x22ce20aec40>"
      ]
     },
     "execution_count": 12,
     "metadata": {},
     "output_type": "execute_result"
    }
   ],
   "source": [
    "#creating sales table\n",
    "cursor.execute('''\n",
    "    CREATE TABLE sales (\n",
    "        id INTEGER PRIMARY KEY AUTOINCREMENT,\n",
    "        order_id TEXT NOT NULL,\n",
    "        product_name TEXT NOT NULL,\n",
    "        quantity INTEGER NOT NULL,\n",
    "        price REAL NOT NULL,\n",
    "        order_date TEXT NOT NULL\n",
    "    )\n",
    "''')"
   ]
  },
  {
   "cell_type": "code",
   "execution_count": 14,
   "id": "c09c7f93-0e9c-4d50-81c3-a436ed83b42b",
   "metadata": {},
   "outputs": [
    {
     "data": {
      "text/plain": [
       "<sqlite3.Cursor at 0x22ce20aec40>"
      ]
     },
     "execution_count": 14,
     "metadata": {},
     "output_type": "execute_result"
    }
   ],
   "source": [
    "#adding data into sales table database\n",
    "sample_data = [\n",
    "    (\"ORD001\", \"Laptop\", 2, 75000.00, \"2025-01-10\"),\n",
    "    (\"ORD002\", \"Mouse\", 5, 500.00, \"2025-01-12\"),\n",
    "    (\"ORD003\", \"Keyboard\", 3, 1500.00, \"2025-02-01\"),\n",
    "    (\"ORD004\", \"Monitor\", 1, 12000.00, \"2025-02-15\"),\n",
    "    (\"ORD005\", \"Printer\", 1, 8000.00, \"2025-03-05\")\n",
    "]\n",
    "\n",
    "cursor.executemany('''\n",
    "    INSERT INTO sales (order_id, product_name, quantity, price, order_date)\n",
    "    VALUES (?, ?, ?, ?, ?)\n",
    "''', sample_data)"
   ]
  },
  {
   "cell_type": "code",
   "execution_count": 16,
   "id": "6b9d8c6d-1de4-461c-a9a6-1cd41f25d98a",
   "metadata": {},
   "outputs": [],
   "source": [
    "#saving and closing the database\n",
    "conn.commit()\n",
    "conn.close()"
   ]
  },
  {
   "cell_type": "code",
   "execution_count": 18,
   "id": "f8029bc4-674d-4eed-8f0b-d31315be70eb",
   "metadata": {},
   "outputs": [
    {
     "name": "stdout",
     "output_type": "stream",
     "text": [
      "(1, 'ORD001', 'Laptop', 2, 75000.0, '2025-01-10')\n",
      "(2, 'ORD002', 'Mouse', 5, 500.0, '2025-01-12')\n",
      "(3, 'ORD003', 'Keyboard', 3, 1500.0, '2025-02-01')\n",
      "(4, 'ORD004', 'Monitor', 1, 12000.0, '2025-02-15')\n",
      "(5, 'ORD005', 'Printer', 1, 8000.0, '2025-03-05')\n"
     ]
    }
   ],
   "source": [
    "#Running SQL command that display the stored data \n",
    "conn = sqlite3.connect('sales_data.db')\n",
    "cursor = conn.cursor()\n",
    "cursor.execute(\"SELECT * FROM sales\")\n",
    "rows = cursor.fetchall()\n",
    "for row in rows:\n",
    "    print(row)\n",
    "conn.close()"
   ]
  },
  {
   "cell_type": "code",
   "execution_count": 29,
   "id": "9df1c8ee-d31d-4f36-9fe5-65db0c6a63fe",
   "metadata": {},
   "outputs": [
    {
     "name": "stdout",
     "output_type": "stream",
     "text": [
      "Product: Keyboard, Total Quantity: 3, Revenue: ₹4,500.00\n",
      "Product: Laptop, Total Quantity: 2, Revenue: ₹150,000.00\n",
      "Product: Monitor, Total Quantity: 1, Revenue: ₹12,000.00\n",
      "Product: Mouse, Total Quantity: 5, Revenue: ₹2,500.00\n",
      "Product: Printer, Total Quantity: 1, Revenue: ₹8,000.00\n"
     ]
    }
   ],
   "source": [
    "#Running a basic SQL command to group things and give them a name \n",
    "conn = sqlite3.connect(\"sales_data.db\")\n",
    "cursor = conn.cursor()\n",
    "query = \"\"\"\n",
    "SELECT \n",
    "    product_name, \n",
    "    SUM(quantity) AS total_qty, \n",
    "    SUM(quantity * price) AS revenue \n",
    "FROM \n",
    "    sales \n",
    "GROUP BY \n",
    "    product_name;\n",
    "\"\"\"\n",
    "cursor.execute(query)\n",
    "rows = cursor.fetchall()\n",
    "for row in rows:\n",
    "    print(f\"Product: {row[0]}, Total Quantity: {row[1]}, Revenue: ₹{row[2]:,.2f}\")\n",
    "conn.close()"
   ]
  },
  {
   "cell_type": "code",
   "execution_count": 33,
   "id": "0803f2d8-bbbc-48ab-8192-9f07b80485fb",
   "metadata": {},
   "outputs": [
    {
     "data": {
      "text/html": [
       "<div>\n",
       "<style scoped>\n",
       "    .dataframe tbody tr th:only-of-type {\n",
       "        vertical-align: middle;\n",
       "    }\n",
       "\n",
       "    .dataframe tbody tr th {\n",
       "        vertical-align: top;\n",
       "    }\n",
       "\n",
       "    .dataframe thead th {\n",
       "        text-align: right;\n",
       "    }\n",
       "</style>\n",
       "<table border=\"1\" class=\"dataframe\">\n",
       "  <thead>\n",
       "    <tr style=\"text-align: right;\">\n",
       "      <th></th>\n",
       "      <th>product_name</th>\n",
       "      <th>total_qty</th>\n",
       "      <th>revenue</th>\n",
       "    </tr>\n",
       "  </thead>\n",
       "  <tbody>\n",
       "    <tr>\n",
       "      <th>0</th>\n",
       "      <td>Keyboard</td>\n",
       "      <td>3</td>\n",
       "      <td>4500.0</td>\n",
       "    </tr>\n",
       "    <tr>\n",
       "      <th>1</th>\n",
       "      <td>Laptop</td>\n",
       "      <td>2</td>\n",
       "      <td>150000.0</td>\n",
       "    </tr>\n",
       "    <tr>\n",
       "      <th>2</th>\n",
       "      <td>Monitor</td>\n",
       "      <td>1</td>\n",
       "      <td>12000.0</td>\n",
       "    </tr>\n",
       "    <tr>\n",
       "      <th>3</th>\n",
       "      <td>Mouse</td>\n",
       "      <td>5</td>\n",
       "      <td>2500.0</td>\n",
       "    </tr>\n",
       "    <tr>\n",
       "      <th>4</th>\n",
       "      <td>Printer</td>\n",
       "      <td>1</td>\n",
       "      <td>8000.0</td>\n",
       "    </tr>\n",
       "  </tbody>\n",
       "</table>\n",
       "</div>"
      ],
      "text/plain": [
       "  product_name  total_qty   revenue\n",
       "0     Keyboard          3    4500.0\n",
       "1       Laptop          2  150000.0\n",
       "2      Monitor          1   12000.0\n",
       "3        Mouse          5    2500.0\n",
       "4      Printer          1    8000.0"
      ]
     },
     "execution_count": 33,
     "metadata": {},
     "output_type": "execute_result"
    }
   ],
   "source": [
    "#loading data into pandas and printing it \n",
    "import pandas as pd\n",
    "conn = sqlite3.connect(\"sales_data.db\")\n",
    "query = \"\"\"\n",
    "SELECT \n",
    "    product_name, \n",
    "    SUM(quantity) AS total_qty, \n",
    "    SUM(quantity * price) AS revenue \n",
    "FROM \n",
    "    sales \n",
    "GROUP BY \n",
    "    product_name;\n",
    "\"\"\"\n",
    "df = pd.read_sql_query(query, conn)\n",
    "conn.close()\n",
    "df\n"
   ]
  },
  {
   "cell_type": "code",
   "execution_count": 43,
   "id": "2d02cf6b-5377-4330-8c44-151069dfaf77",
   "metadata": {},
   "outputs": [
    {
     "data": {
      "image/png": "[encoded data removed]",
      "text/plain": [
       "<Figure size 640x480 with 1 Axes>"
      ]
     },
     "metadata": {},
     "output_type": "display_data"
    }
   ],
   "source": [
    "# plotting the bar graph\n",
    "import matplotlib.pyplot as plt\n",
    "conn = sqlite3.connect(\"sales_data.db\")\n",
    "query = \"\"\"\n",
    "SELECT \n",
    "    product_name, \n",
    "    SUM(quantity) AS total_qty, \n",
    "    SUM(quantity * price) AS revenue \n",
    "FROM \n",
    "    sales \n",
    "GROUP BY \n",
    "    product_name;\n",
    "\"\"\"\n",
    "df = pd.read_sql_query(query, conn)\n",
    "conn.close()\n",
    "df.plot(kind='bar', x='product_name', y='revenue', color='skyblue', legend=False)\n",
    "plt.title('Revenue by Product')\n",
    "plt.xlabel('Product')\n",
    "plt.ylabel('Revenue (₹)')\n",
    "plt.xticks(rotation=45)\n",
    "plt.tight_layout()\n",
    "plt.savefig(\"sales_chart.png\", dpi=300) #saving the graph in png format\n",
    "plt.show()"
   ]
  },
  {
   "cell_type": "code",
   "execution_count": null,
   "id": "c98ac37b-fbd4-49fb-b486-37c86285a2c2",
   "metadata": {},
   "outputs": [],
   "source": []
  },
  {
   "cell_type": "code",
   "execution_count": null,
   "id": "5d56c943-1339-4812-85b4-12eb64aa4842",
   "metadata": {},
   "outputs": [],
   "source": []
  }
 ],
 "metadata": {
  "kernelspec": {
   "display_name": "Python 3 (ipykernel)",
   "language": "python",
   "name": "python3"
  },
  "language_info": {
   "codemirror_mode": {
    "name": "ipython",
    "version": 3
   },
   "file_extension": ".py",
   "mimetype": "text/x-python",
   "name": "python",
   "nbconvert_exporter": "python",
   "pygments_lexer": "ipython3",
   "version": "3.12.7"
  }
 },
 "nbformat": 4,
 "nbformat_minor": 5
}
